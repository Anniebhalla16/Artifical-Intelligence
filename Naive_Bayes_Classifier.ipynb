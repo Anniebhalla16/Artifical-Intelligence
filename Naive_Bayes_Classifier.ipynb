{
  "nbformat": 4,
  "nbformat_minor": 0,
  "metadata": {
    "colab": {
      "provenance": []
    },
    "kernelspec": {
      "name": "python3",
      "display_name": "Python 3"
    },
    "language_info": {
      "name": "python"
    }
  },
  "cells": [
    {
      "cell_type": "markdown",
      "source": [
        "# Naive Bayes Classifier\n",
        "\n",
        "*   Naive Bayes Theorem : P(y|X) = P(X|y) . P(y) / P (X)\n",
        "*   where X = (x1, x2 ,x3 .....)\n",
        "*         y = class labels\n",
        "*   Assuming that the features are mutually independent and Y and x are gaussian distributions.\n",
        "\n",
        "\n",
        "\n",
        "\n",
        "\n",
        "\n",
        "\n"
      ],
      "metadata": {
        "id": "FAeEe3mqWPxM"
      }
    },
    {
      "cell_type": "code",
      "execution_count": 5,
      "metadata": {
        "id": "yKkc7BOcWO4V"
      },
      "outputs": [],
      "source": [
        "import numpy as np"
      ]
    },
    {
      "cell_type": "code",
      "source": [
        "class NaiveBayes:\n",
        "\n",
        "  def train(self, X,y):\n",
        "    n_samples, n_features = X.shape\n",
        "    self._classes = np.unique(y)\n",
        "    n_classes = len(self._classes)\n",
        "\n",
        "    # calculate mean, variance and prior for ecah class\n",
        "    self._mean = np.zeros((n_classes , n_features), dtype=np.float64)\n",
        "    self._var = np.zeros((n_classes , n_features), dtype=np.float64)\n",
        "    self._priors = np.zeros((n_classes), dtype=np.float64)\n",
        "\n",
        "    for idx, c in enumerate(self._classes):\n",
        "      # only samples of this class\n",
        "      X_c = X[ y == c]\n",
        "      self._mean[idx, :] =  X_c.mean(axis=0)\n",
        "      self._var[idx, : ] = X_c.var(axis=0)\n",
        "      self._priors[idx] = X_c.shape[0] / float(n_samples)\n",
        "\n",
        "\n",
        "  def predict(self, X):\n",
        "    y_pred = [self._predict(x) for x in X]\n",
        "    return np.array(y_pred)\n",
        "\n",
        "  def _predict(self, x):\n",
        "    posteriors =[]\n",
        "\n",
        "    # calculate posterior probability for each class\n",
        "    for idx, y in enumerate(self._classes):\n",
        "      prior = np.log(self._priors[idx])\n",
        "      posterior = np.sum(np.log(self._pdf(idx,x)))\n",
        "      posterior = prior + posterior\n",
        "      posteriors.append(posterior)\n",
        "\n",
        "    # return class with highest posterior probability\n",
        "    return self._classes[np.argmax(posteriors)]\n",
        "\n",
        "  def _pdf(self, class_idx, x):\n",
        "    mean = self._mean[class_idx]\n",
        "    var = self._var[class_idx]\n",
        "    numerator = np.exp(-((x - mean) ** 2) / (2* var))\n",
        "    denominator = np.sqrt ( 2 * np.pi * var)\n",
        "\n",
        "    return numerator / denominator\n",
        ""
      ],
      "metadata": {
        "id": "c2llyNzOWPfb"
      },
      "execution_count": 17,
      "outputs": []
    },
    {
      "cell_type": "code",
      "source": [
        "if __name__ == \"__main__\":\n",
        "  from sklearn.model_selection import train_test_split\n",
        "  from sklearn import datasets\n",
        "\n",
        "  def accuracy(y_true, y_pred):\n",
        "    accuracy= np.sum(y_true == y_pred) / len(y_true)\n",
        "    return accuracy\n",
        "\n",
        "  X,y = datasets.make_classification(\n",
        "      n_samples=1000, n_features=10, n_classes=2, random_state=123\n",
        "  )\n",
        "\n",
        "  X_train, X_test, y_train, y_test = train_test_split(X, y, test_size=0.2, random_state=123)\n",
        "\n",
        "  nb= NaiveBayes()\n",
        "  nb.train(X_train, y_train)\n",
        "  predictions = nb.predict(X_test)\n",
        "\n",
        "  print(\"Accuracy\", accuracy(y_test, predictions))\n",
        "\n"
      ],
      "metadata": {
        "colab": {
          "base_uri": "https://localhost:8080/"
        },
        "id": "mubFUZHdOuyj",
        "outputId": "22ea86d3-9995-459f-f7a0-cb67df6df3fa"
      },
      "execution_count": 18,
      "outputs": [
        {
          "output_type": "stream",
          "name": "stdout",
          "text": [
            "Accuracy 0.965\n"
          ]
        }
      ]
    },
    {
      "cell_type": "code",
      "source": [],
      "metadata": {
        "id": "q5TkMtQXPV1M"
      },
      "execution_count": null,
      "outputs": []
    }
  ]
}